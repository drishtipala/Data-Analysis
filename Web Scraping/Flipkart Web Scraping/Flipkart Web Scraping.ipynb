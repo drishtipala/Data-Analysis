{
 "cells": [
  {
   "cell_type": "code",
   "execution_count": 31,
   "id": "a3e75e23",
   "metadata": {},
   "outputs": [],
   "source": [
    "from bs4 import BeautifulSoup\n",
    "import requests\n",
    "import pandas as pd"
   ]
  },
  {
   "cell_type": "code",
   "execution_count": 32,
   "id": "27088404",
   "metadata": {},
   "outputs": [],
   "source": [
    "Product_name=[]\n",
    "Prices=[]\n",
    "Description=[]\n",
    "Reviews=[]"
   ]
  },
  {
   "cell_type": "code",
   "execution_count": 33,
   "id": "63ff8ec7",
   "metadata": {},
   "outputs": [],
   "source": [
    "for i in range(2,12):\n",
    "    url=\"https://www.flipkart.com/search?q=mobiles%20under%2050000&otracker=search&otracker1=search&marketplace=FLIPKART&as-show=on&as=off0\"+str(i)\n",
    "    r=requests.get(url)\n",
    "    #print(r)\n",
    "\n",
    "    soup=BeautifulSoup(r.text,\"lxml\")\n",
    "    box=soup.find(\"div\",class_=\"_1YokD2 _3Mn1Gg\")\n",
    "\n",
    "    #For Product names\n",
    "    names=box.find_all(\"div\",class_=\"_4rR01T\")\n",
    "    for i in names:\n",
    "        name=i.text\n",
    "        Product_name.append(name)\n",
    "\n",
    "    #print(Product_name)\n",
    "\n",
    "    #for Prices\n",
    "    prices=box.find_all(\"div\",class_=\"_30jeq3 _1_WHN1\")\n",
    "    for i in prices:\n",
    "        name=i.text\n",
    "        Prices.append(name)\n",
    "\n",
    "    #print(Prices)\n",
    "\n",
    "    #For description\n",
    "    desc=box.find_all(\"ul\",class_=\"_1xgFaf\")\n",
    "    for i in desc:\n",
    "        name=i.text\n",
    "        Description.append(name)\n",
    "\n",
    "    #print(Description)\n",
    "\n",
    "    #For reviews\n",
    "    reviews=box.find_all('div',class_=\"_3LWZlK\")\n",
    "    for i in reviews:\n",
    "        name=i.text\n",
    "        Reviews.append(name)\n",
    "\n",
    "    #print(Reviews)"
   ]
  },
  {
   "cell_type": "code",
   "execution_count": 34,
   "id": "3befb62a",
   "metadata": {},
   "outputs": [],
   "source": [
    "df=pd.DataFrame({\"Product Name\":Product_name,\"Prices\":Prices,\"Description\":Description,\"Reviews\":Reviews})\n",
    "df.to_csv(\"Flipkart_Mobiles_Under_50000.csv\")"
   ]
  },
  {
   "cell_type": "code",
   "execution_count": null,
   "id": "76fca170",
   "metadata": {
    "scrolled": true
   },
   "outputs": [],
   "source": []
  },
  {
   "cell_type": "code",
   "execution_count": null,
   "id": "df82c9cc",
   "metadata": {},
   "outputs": [],
   "source": []
  }
 ],
 "metadata": {
  "kernelspec": {
   "display_name": "Python 3 (ipykernel)",
   "language": "python",
   "name": "python3"
  },
  "language_info": {
   "codemirror_mode": {
    "name": "ipython",
    "version": 3
   },
   "file_extension": ".py",
   "mimetype": "text/x-python",
   "name": "python",
   "nbconvert_exporter": "python",
   "pygments_lexer": "ipython3",
   "version": "3.9.13"
  }
 },
 "nbformat": 4,
 "nbformat_minor": 5
}
